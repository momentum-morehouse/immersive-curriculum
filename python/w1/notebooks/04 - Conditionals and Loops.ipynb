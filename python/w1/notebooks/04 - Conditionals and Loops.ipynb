{
 "cells": [
  {
   "cell_type": "markdown",
   "metadata": {},
   "source": [
    "In order to write complex programs, we need some logic. \n",
    "\n",
    "If you think about programs like recipes, you'll think of conditional statements and loops. Here some examples:\n",
    "\n",
    "* Stir the mixture until it thickens.\n",
    "* Bake at 425 degrees for 11-13 minutes, or at 400 degrees for 15-17 for a crispier crust.\n",
    "* Cook on low for 8 hours, or on high for 3.5 hours.\n",
    "* Add the peppers once the onions are translucent.\n",
    "* Whip the eggs and sugar until they have stiff peaks."
   ]
  },
  {
   "cell_type": "markdown",
   "metadata": {},
   "source": [
    "# if statements"
   ]
  },
  {
   "cell_type": "markdown",
   "metadata": {},
   "source": [
    "Let's write a program to print some information about a user based on their age."
   ]
  },
  {
   "cell_type": "code",
   "execution_count": null,
   "metadata": {},
   "outputs": [],
   "source": [
    "age = int(input(\"What is your age? \"))\n",
    "if age >= 18:\n",
    "    print(\"You are allowed to vote.\")\n",
    "else:\n",
    "    print(\"You are not allowed to vote.\")"
   ]
  },
  {
   "cell_type": "markdown",
   "metadata": {},
   "source": [
    "`if` statements can have more than two options, using the `elif` keyword."
   ]
  },
  {
   "cell_type": "code",
   "execution_count": null,
   "metadata": {},
   "outputs": [],
   "source": [
    "age = int(input(\"What is your age? \"))\n",
    "if age >= 21:\n",
    "    print(\"You are allowed to vote and drink.\")\n",
    "elif age >= 18:\n",
    "    print(\"You are allowed to vote, but not drink.\")\n",
    "else:\n",
    "    print(\"You are not allowed to vote or drink.\")"
   ]
  },
  {
   "cell_type": "markdown",
   "metadata": {},
   "source": [
    "# while statements"
   ]
  },
  {
   "cell_type": "markdown",
   "metadata": {},
   "source": [
    "Here's a simple problem: print out all the numbers from 1 to 10."
   ]
  },
  {
   "cell_type": "code",
   "execution_count": null,
   "metadata": {},
   "outputs": [],
   "source": [
    "i = 1\n",
    "while i <= 10:\n",
    "    print(i)\n",
    "    i += 1"
   ]
  },
  {
   "cell_type": "code",
   "execution_count": null,
   "metadata": {},
   "outputs": [],
   "source": [
    "quit = False\n",
    "while not quit:\n",
    "    user_input = input(\"Enter your name or 'Q' if you want to quit: \")\n",
    "    if user_input == \"Q\":\n",
    "        quit = True\n",
    "    else:\n",
    "        print(\"Hi\", user_input)"
   ]
  },
  {
   "cell_type": "markdown",
   "metadata": {},
   "source": [
    "# Complex logic"
   ]
  },
  {
   "cell_type": "markdown",
   "metadata": {},
   "source": [
    "You can use `and` and `or` to combine predicates in `if` and `while` statements."
   ]
  },
  {
   "cell_type": "code",
   "execution_count": null,
   "metadata": {},
   "outputs": [],
   "source": [
    "age = int(input(\"What is your age? \"))\n",
    "name = input(\"What is your name? \")\n",
    "if name == \"Harper\" or age > 50:\n",
    "    print(\"You are wise.\")"
   ]
  },
  {
   "cell_type": "code",
   "execution_count": null,
   "metadata": {},
   "outputs": [],
   "source": [
    "age = int(input(\"What is your age? \"))\n",
    "name = input(\"What is your name? \")\n",
    "if name == \"Harper\" and age > 50:\n",
    "    print(\"Entrance into the halls of yore is granted.\")"
   ]
  }
 ],
 "metadata": {
  "kernelspec": {
   "display_name": "Python 3",
   "language": "python",
   "name": "python3"
  },
  "language_info": {
   "codemirror_mode": {
    "name": "ipython",
    "version": 3
   },
   "file_extension": ".py",
   "mimetype": "text/x-python",
   "name": "python",
   "nbconvert_exporter": "python",
   "pygments_lexer": "ipython3",
   "version": "3.7.0"
  }
 },
 "nbformat": 4,
 "nbformat_minor": 1
}
