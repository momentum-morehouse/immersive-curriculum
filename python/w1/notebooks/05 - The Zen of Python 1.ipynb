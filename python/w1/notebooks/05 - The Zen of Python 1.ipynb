{
 "cells": [
  {
   "cell_type": "code",
   "execution_count": null,
   "metadata": {},
   "outputs": [],
   "source": [
    "import this"
   ]
  },
  {
   "cell_type": "markdown",
   "metadata": {},
   "source": [
    "# Beautiful is better than ugly. Readability counts."
   ]
  },
  {
   "cell_type": "markdown",
   "metadata": {},
   "source": [
    "You can write Python all sorts of ways, but there is a standard you should follow:\n",
    "\n",
    "[PEP 8](https://www.python.org/dev/peps/pep-0008/)\n",
    "\n",
    "Following it ensures your code will look nice and be easy for others to read. There is _no excuse_ for code that doesn't meet these guidelines.\n",
    "\n",
    "Run `pip install pep8` to install a tool that can check your code for PEP 8 errors.\n",
    "\n",
    "Here is [an example notebook with PEP 8 errors](http://nbviewer.ipython.org/github/SiggyF/notebooks/blob/master/styleguide.ipynb)."
   ]
  },
  {
   "cell_type": "markdown",
   "metadata": {},
   "source": [
    "# Explicit is better than implicit."
   ]
  },
  {
   "cell_type": "markdown",
   "metadata": {},
   "source": [
    "You'll see this throughout Python, but you've already seen it. Here's some JavaScript, another language:\n",
    "\n",
    "```js\n",
    "console.log(4 + \"5\");\n",
    "#=> 45\n",
    "```\n",
    "\n",
    "Would you guess that's what would happen?\n",
    "\n",
    "Here's Python:"
   ]
  },
  {
   "cell_type": "code",
   "execution_count": null,
   "metadata": {},
   "outputs": [],
   "source": [
    "4 + \"5\""
   ]
  },
  {
   "cell_type": "markdown",
   "metadata": {},
   "source": [
    "# There should be one -- and preferably only one -- obvious way to do it."
   ]
  },
  {
   "cell_type": "markdown",
   "metadata": {},
   "source": [
    "Watch for this in the rest of our class. Tomorrow you'll see:\n",
    "\n",
    "```py\n",
    "for element in sequence:\n",
    "    print(element)\n",
    "```\n",
    "\n",
    "That works with every type of sequence that exists in Python."
   ]
  }
 ],
 "metadata": {
  "kernelspec": {
   "display_name": "Python 3",
   "language": "python",
   "name": "python3"
  },
  "language_info": {
   "codemirror_mode": {
    "name": "ipython",
    "version": 3
   },
   "file_extension": ".py",
   "mimetype": "text/x-python",
   "name": "python",
   "nbconvert_exporter": "python",
   "pygments_lexer": "ipython3",
   "version": "3.7.0"
  }
 },
 "nbformat": 4,
 "nbformat_minor": 1
}
